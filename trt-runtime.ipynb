{
 "cells": [
  {
   "cell_type": "code",
   "execution_count": 1,
   "metadata": {},
   "outputs": [],
   "source": [
    "import numpy as np\n",
    "import os\n",
    "import pycuda.driver as cuda\n",
    "import pycuda.autoinit\n",
    "import tensorrt as trt\n",
    "\n",
    "import matplotlib.pyplot as plt\n",
    "from PIL import Image\n",
    "\n",
    "TRT_LOGGER = trt.Logger()\n",
    "\n",
    "# Filenames of TensorRT plan file and input/output images.\n",
    "engine_file = \"superpoint.trt\"\n",
    "\n"
   ]
  },
  {
   "cell_type": "code",
   "execution_count": 2,
   "metadata": {},
   "outputs": [],
   "source": [
    "def load_engine(engine_file_path):\n",
    "    assert os.path.exists(engine_file_path)\n",
    "    print(\"Reading engine from file {}\".format(engine_file_path))\n",
    "    with open(engine_file_path, \"rb\") as f, trt.Runtime(TRT_LOGGER) as runtime:\n",
    "        return runtime.deserialize_cuda_engine(f.read())"
   ]
  },
  {
   "cell_type": "code",
   "execution_count": 7,
   "metadata": {},
   "outputs": [],
   "source": [
    "\n",
    "def infer(engine, input):\n",
    "    # print(\"Reading input image from file {}\".format(input_file))\n",
    "    # with Image.open(input_file) as img:\n",
    "    #     input_image = preprocess(img)\n",
    "    #     image_width = img.width\n",
    "    #     image_height = img.height\n",
    "    img_height = input.shape[-2]\n",
    "    img_width = input.shape[-1]\n",
    "    with engine.create_execution_context() as context:\n",
    "        # Set input shape based on image dimensions for inference\n",
    "        context.set_binding_shape(engine.get_binding_index(\"input\"), (1, 1, img_height, img_width))\n",
    "        # Allocate host and device buffers\n",
    "        bindings = []\n",
    "        for binding in engine:\n",
    "            binding_idx = engine.get_binding_index(binding)\n",
    "            size = trt.volume(context.get_binding_shape(binding_idx))\n",
    "            dtype = trt.nptype(engine.get_binding_dtype(binding))\n",
    "            if engine.binding_is_input(binding):\n",
    "                input_buffer = np.ascontiguousarray(input)\n",
    "                input_memory = cuda.mem_alloc(input.nbytes)\n",
    "                bindings.append(int(input_memory))\n",
    "            else:\n",
    "                output_buffer = cuda.pagelocked_empty(size, dtype)\n",
    "                output_memory = cuda.mem_alloc(output_buffer.nbytes)\n",
    "                bindings.append(int(output_memory))\n",
    "\n",
    "        stream = cuda.Stream()\n",
    "        # Transfer input data to the GPU.\n",
    "        cuda.memcpy_htod_async(input_memory, input_buffer, stream)\n",
    "        # Run inference\n",
    "        context.execute_async_v2(bindings=bindings, stream_handle=stream.handle)\n",
    "        # Transfer prediction output from the GPU.\n",
    "        cuda.memcpy_dtoh_async(output_buffer, output_memory, stream)\n",
    "        # Synchronize the stream\n",
    "        stream.synchronize()\n",
    "\n",
    "    return output_buffer.cpu().numpy()\n"
   ]
  },
  {
   "cell_type": "code",
   "execution_count": 2,
   "metadata": {},
   "outputs": [
    {
     "ename": "ImportError",
     "evalue": "cannot import name 'SuperPointNet' from partially initialized module 'superpoint.model' (most likely due to a circular import) (/home/plus/tensorrt/tensorrt/superpoint/model.py)",
     "output_type": "error",
     "traceback": [
      "\u001b[0;31m---------------------------------------------------------------------------\u001b[0m",
      "\u001b[0;31mImportError\u001b[0m                               Traceback (most recent call last)",
      "Cell \u001b[0;32mIn[2], line 2\u001b[0m\n\u001b[1;32m      1\u001b[0m \u001b[39mimport\u001b[39;00m \u001b[39mcv2\u001b[39;00m\n\u001b[0;32m----> 2\u001b[0m \u001b[39mfrom\u001b[39;00m \u001b[39msuperpoint\u001b[39;00m\u001b[39m.\u001b[39;00m\u001b[39mmodel\u001b[39;00m \u001b[39mimport\u001b[39;00m SuperPointNet\n\u001b[1;32m      3\u001b[0m \u001b[39mimport\u001b[39;00m \u001b[39mtorch\u001b[39;00m\n\u001b[1;32m      4\u001b[0m \u001b[39mfrom\u001b[39;00m \u001b[39mtime\u001b[39;00m \u001b[39mimport\u001b[39;00m time\n",
      "File \u001b[0;32m~/tensorrt/tensorrt/superpoint/model.py:54\u001b[0m\n\u001b[1;32m     51\u001b[0m \u001b[39mimport\u001b[39;00m \u001b[39mtime\u001b[39;00m\n\u001b[1;32m     53\u001b[0m \u001b[39mimport\u001b[39;00m \u001b[39mcv2\u001b[39;00m\n\u001b[0;32m---> 54\u001b[0m \u001b[39mimport\u001b[39;00m \u001b[39mtorch\u001b[39;00m\n\u001b[1;32m     55\u001b[0m \u001b[39mimport\u001b[39;00m \u001b[39myaml\u001b[39;00m\n\u001b[1;32m     56\u001b[0m \u001b[39mfrom\u001b[39;00m \u001b[39mtime\u001b[39;00m \u001b[39mimport\u001b[39;00m time\n",
      "File \u001b[0;32m~/tensorrt/tensorrt/torch.py:2\u001b[0m\n\u001b[1;32m      1\u001b[0m \u001b[39mimport\u001b[39;00m \u001b[39mcv2\u001b[39;00m\n\u001b[0;32m----> 2\u001b[0m \u001b[39mfrom\u001b[39;00m \u001b[39msuperpoint\u001b[39;00m\u001b[39m.\u001b[39;00m\u001b[39mmodel\u001b[39;00m \u001b[39mimport\u001b[39;00m SuperPointNet\n\u001b[1;32m      3\u001b[0m \u001b[39mimport\u001b[39;00m \u001b[39mtorch\u001b[39;00m\n\u001b[1;32m      4\u001b[0m \u001b[39mfrom\u001b[39;00m \u001b[39mtime\u001b[39;00m \u001b[39mimport\u001b[39;00m time\n",
      "\u001b[0;31mImportError\u001b[0m: cannot import name 'SuperPointNet' from partially initialized module 'superpoint.model' (most likely due to a circular import) (/home/plus/tensorrt/tensorrt/superpoint/model.py)"
     ]
    }
   ],
   "source": [
    "import cv2\n",
    "from superpoint.model import SuperPointNet\n",
    "import torch\n",
    "from time import time\n",
    "\n",
    "# onnx_file_path = \"/home/plus/tensorrt/tensorrt/trt_models/superpoint.onnx\"\n",
    "# engine_file_path = \"/home/plus/tensorrt/tensorrt/trt_models/superpoint.trt\"\n",
    "pth_path = \"/home/plus/tensorrt/tensorrt/superpoint/superpoint_v1.pth\"\n",
    "img_path = \"/home/plus/tensorrt/tensorrt/img/test.jpg\"\n",
    "img = cv2.imread(img_path )[:, :, ::-1]\n",
    "gray_img = cv2.cvtColor(img, cv2.COLOR_RGB2GRAY)\n",
    "device = torch.device('cuda' if torch.cuda.is_available() else 'cpu')\n",
    "# input = torch.tensor(gray_img, dtype=torch.float, device=device)[None, None] / 255.\n",
    "input = gray_img.astype('float32')[None, None]/255.\n",
    "input = torch.from_numpy(input).cuda()\n",
    "print(gray_img.shape)\n",
    "model = SuperPointNet()\n",
    "model.load_state_dict(torch.load(pth_path))\n",
    "model = model.cuda()\n",
    "model.eval()\n",
    "start_time = time()\n",
    "out = model.forward(input)\n",
    "end_time = time()\n",
    "semi, coarse_desc = out[0], out[1]  # [1,65,h/8,w/8], [1,256,h/8,w/8]\n",
    "print(semi.shape, coarse_desc.shape)\n",
    "print(\"inference time:\", end_time-start_time)"
   ]
  },
  {
   "cell_type": "code",
   "execution_count": 4,
   "metadata": {},
   "outputs": [
    {
     "ename": "NameError",
     "evalue": "name 'np' is not defined",
     "output_type": "error",
     "traceback": [
      "\u001b[0;31m---------------------------------------------------------------------------\u001b[0m",
      "\u001b[0;31mNameError\u001b[0m                                 Traceback (most recent call last)",
      "Cell \u001b[0;32mIn[4], line 1\u001b[0m\n\u001b[0;32m----> 1\u001b[0m dense \u001b[39m=\u001b[39m np\u001b[39m.\u001b[39mexp(semi) \u001b[39m# Softmax.\u001b[39;00m\n\u001b[1;32m      2\u001b[0m dense \u001b[39m=\u001b[39m dense \u001b[39m/\u001b[39m (np\u001b[39m.\u001b[39msum(dense, axis\u001b[39m=\u001b[39m\u001b[39m0\u001b[39m)\u001b[39m+\u001b[39m\u001b[39m.00001\u001b[39m) \u001b[39m# Should sum to 1.\u001b[39;00m\n\u001b[1;32m      3\u001b[0m \u001b[39m# Remove dustbin.\u001b[39;00m\n",
      "\u001b[0;31mNameError\u001b[0m: name 'np' is not defined"
     ]
    }
   ],
   "source": [
    "dense = np.exp(semi) # Softmax.\n",
    "dense = dense / (np.sum(dense, axis=0)+.00001) # Should sum to 1.\n",
    "# Remove dustbin.\n",
    "nodust = dense[:-1, :, :]\n",
    "# Reshape to get full resolution heatmap.\n",
    "Hc = int(H / self.cell)\n",
    "Wc = int(W / self.cell)\n",
    "nodust = nodust.transpose(1, 2, 0)\n",
    "heatmap = np.reshape(nodust, [Hc, Wc, self.cell, self.cell])\n",
    "heatmap = np.transpose(heatmap, [0, 2, 1, 3])\n",
    "heatmap = np.reshape(heatmap, [Hc*self.cell, Wc*self.cell])\n",
    "xs, ys = np.where(heatmap >= self.conf_thresh) # Confidence threshold.\n",
    "if len(xs) == 0:\n",
    "  return np.zeros((3, 0)), None, None\n",
    "pts = np.zeros((3, len(xs))) # Populate point data sized 3xN.\n",
    "pts[0, :] = ys\n",
    "pts[1, :] = xs\n",
    "pts[2, :] = heatmap[xs, ys]\n",
    "pts, _ = self.nms_fast(pts, H, W, dist_thresh=self.nms_dist) # Apply NMS.\n",
    "inds = np.argsort(pts[2,:])\n",
    "pts = pts[:,inds[::-1]] # Sort by confidence.\n",
    "# Remove points along border.\n",
    "bord = self.border_remove\n",
    "toremoveW = np.logical_or(pts[0, :] < bord, pts[0, :] >= (W-bord))\n",
    "toremoveH = np.logical_or(pts[1, :] < bord, pts[1, :] >= (H-bord))\n",
    "toremove = np.logical_or(toremoveW, toremoveH)\n",
    "pts = pts[:, ~toremove]\n",
    "# --- Process descriptor.\n",
    "D = coarse_desc.shape[1]\n",
    "if pts.shape[1] == 0:\n",
    "  desc = np.zeros((D, 0))\n",
    "else:\n",
    "  # Interpolate into descriptor map using 2D point locations.\n",
    "  samp_pts = torch.from_numpy(pts[:2, :].copy())\n",
    "  samp_pts[0, :] = (samp_pts[0, :] / (float(W)/2.)) - 1.\n",
    "  samp_pts[1, :] = (samp_pts[1, :] / (float(H)/2.)) - 1.\n",
    "  samp_pts = samp_pts.transpose(0, 1).contiguous()\n",
    "  samp_pts = samp_pts.view(1, 1, -1, 2)\n",
    "  samp_pts = samp_pts.float()\n",
    "  if self.cuda:\n",
    "    samp_pts = samp_pts.cuda()\n",
    "  desc = torch.nn.functional.grid_sample(coarse_desc, samp_pts)\n",
    "  desc = desc.data.cpu().numpy().reshape(D, -1)\n",
    "  desc /= np.linalg.norm(desc, axis=0)[np.newaxis, :]\n"
   ]
  }
 ],
 "metadata": {
  "kernelspec": {
   "display_name": "Python 3",
   "language": "python",
   "name": "python3"
  },
  "language_info": {
   "codemirror_mode": {
    "name": "ipython",
    "version": 3
   },
   "file_extension": ".py",
   "mimetype": "text/x-python",
   "name": "python",
   "nbconvert_exporter": "python",
   "pygments_lexer": "ipython3",
   "version": "3.8.10"
  },
  "orig_nbformat": 4
 },
 "nbformat": 4,
 "nbformat_minor": 2
}
